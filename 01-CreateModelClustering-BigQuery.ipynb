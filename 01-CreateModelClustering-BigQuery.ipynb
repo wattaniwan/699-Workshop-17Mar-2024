{
 "cells": [
  {
   "cell_type": "markdown",
   "metadata": {
    "id": "Rx-ISWb846PS"
   },
   "source": [
    "**Name:**\n",
    "\n",
    "**ID:**"
   ]
  },
  {
   "cell_type": "markdown",
   "metadata": {
    "id": "onwyKQB_0VmF"
   },
   "source": [
    "### **Authenticate and authorize access**"
   ]
  },
  {
   "cell_type": "code",
   "execution_count": null,
   "metadata": {
    "colab": {
     "base_uri": "https://localhost:8080/"
    },
    "executionInfo": {
     "elapsed": 2,
     "status": "ok",
     "timestamp": 1710582603356,
     "user": {
      "displayName": "Niwan Wattanakitrungroj",
      "userId": "07262508947735166881"
     },
     "user_tz": -420
    },
    "id": "RB-8igOtfMDU",
    "outputId": "c5ee829c-1114-4928-a8b9-d82492362ba1"
   },
   "outputs": [],
   "source": [
    "\n",
    "from google.colab import auth\n",
    "auth.authenticate_user()\n",
    "print('Authenticated')"
   ]
  },
  {
   "cell_type": "markdown",
   "metadata": {
    "id": "a0-WOLPxVTIf"
   },
   "source": [
    "**BigQuery DataFrames**\n",
    "\n",
    "- bigframes.pandas provides a pandas-compatible API for analytics.\n",
    "\n",
    "- bigframes.ml provides a scikit-learn-like API for ML.\n",
    "\n",
    "\n",
    "> https://cloud.google.com/python/docs/reference/bigframes/latest\n",
    "\n",
    "\n",
    "> https://cloud.google.com/bigquery/docs/kmeans-tutorial\n",
    "\n",
    "\n",
    "\n",
    "\n"
   ]
  },
  {
   "cell_type": "markdown",
   "metadata": {
    "id": "GsGRZwRUYAo0"
   },
   "source": [
    "### **Get data from BigQuery**\n",
    "\n",
    "[London Bicycle Hires public dataset](https://console.cloud.google.com/marketplace/details/greater-london-authority/london-bicycles?filter=solution-type:dataset&id=95374cac-2834-4fa2-a71f-fc033ccb5ce4&_ga=2.262055304.448628190.1710568646-1928647564.1691428223&project=ds-on-gcp-411105)\n",
    "\n",
    "\n",
    "\n",
    "ข้อมูลการเช่ารถจักรยานในลอนดอน\n",
    "\n"
   ]
  },
  {
   "cell_type": "code",
   "execution_count": null,
   "metadata": {
    "executionInfo": {
     "elapsed": 2308,
     "status": "ok",
     "timestamp": 1710582608628,
     "user": {
      "displayName": "Niwan Wattanakitrungroj",
      "userId": "07262508947735166881"
     },
     "user_tz": -420
    },
    "id": "mblsXLtag6K2"
   },
   "outputs": [],
   "source": [
    "import bigframes.pandas as bpd\n",
    "bpd.options.bigquery.project = 'ds-on-gcp-411105'\n",
    "bpd.options.bigquery.location = 'EU'"
   ]
  },
  {
   "cell_type": "markdown",
   "metadata": {
    "id": "qr9MHaEbq-8f"
   },
   "source": [
    "### **ข้อมูลการเช่า (Hire)**\n",
    "\n",
    "> *bigquery-public-data.london_bicycles.cycle_hire*"
   ]
  },
  {
   "cell_type": "code",
   "execution_count": null,
   "metadata": {
    "executionInfo": {
     "elapsed": 4578,
     "status": "ok",
     "timestamp": 1710582648210,
     "user": {
      "displayName": "Niwan Wattanakitrungroj",
      "userId": "07262508947735166881"
     },
     "user_tz": -420
    },
    "id": "mjANR8fz9QHW"
   },
   "outputs": [],
   "source": [
    "h = bpd.read_gbq(\"bigquery-public-data.london_bicycles.cycle_hire\",\n",
    "                  col_order=[\"start_station_name\", \"start_station_id\", \"start_date\", \"duration\"],\n",
    "                ).rename(columns={\n",
    "                                    \"start_station_name\": \"station_name\",\n",
    "                                    \"start_station_id\": \"station_id\",\n",
    "                                }\n",
    "                        )"
   ]
  },
  {
   "cell_type": "code",
   "execution_count": null,
   "metadata": {
    "colab": {
     "base_uri": "https://localhost:8080/",
     "height": 340
    },
    "executionInfo": {
     "elapsed": 27068,
     "status": "ok",
     "timestamp": 1710582737210,
     "user": {
      "displayName": "Niwan Wattanakitrungroj",
      "userId": "07262508947735166881"
     },
     "user_tz": -420
    },
    "id": "JeAQXICSqFho",
    "outputId": "bb61d622-f0de-4c26-a39e-8fc4b3fd8026"
   },
   "outputs": [],
   "source": [
    "print(h.shape)\n",
    "h.head()"
   ]
  },
  {
   "cell_type": "markdown",
   "metadata": {
    "id": "9GRNjh3itw-f"
   },
   "source": [
    "### **ข้อมูลสถานี (Station)**\n",
    "\n",
    "> *bigquery-public-data.london_bicycles.cycle_stations*\n",
    "\n",
    "\n",
    "**Geography functions**\n",
    "\n",
    "> https://cloud.google.com/bigquery/docs/reference/standard-sql/geography_functions#st_distance\n",
    "\n",
    "> The coordinates -0.1 longitude and 51.5 latitude correspond roughly to the central area of London, UK. Longitude values are measured in degrees east or west of the Prime Meridian, and latitude values are measured in degrees north or south of the equator."
   ]
  },
  {
   "cell_type": "code",
   "execution_count": null,
   "metadata": {
    "colab": {
     "base_uri": "https://localhost:8080/",
     "height": 34
    },
    "executionInfo": {
     "elapsed": 6620,
     "status": "ok",
     "timestamp": 1710584662752,
     "user": {
      "displayName": "Niwan Wattanakitrungroj",
      "userId": "07262508947735166881"
     },
     "user_tz": -420
    },
    "id": "ZFr--coU9jay",
    "outputId": "31d57dd9-06e8-4d5a-cc0b-d843255880e8"
   },
   "outputs": [],
   "source": [
    "# create distance_from_city_center in kilometers.\n",
    "s = bpd.read_gbq(\n",
    "    \"\"\"\n",
    "    SELECT\n",
    "    id,\n",
    "    ST_DISTANCE(\n",
    "        ST_GEOGPOINT(s.longitude, s.latitude),\n",
    "        ST_GEOGPOINT(-0.1, 51.5)\n",
    "    ) / 1000 AS distance_from_city_center\n",
    "    FROM\n",
    "    `bigquery-public-data.london_bicycles.cycle_stations` s\n",
    "    \"\"\"\n",
    ")"
   ]
  },
  {
   "cell_type": "code",
   "execution_count": null,
   "metadata": {
    "colab": {
     "base_uri": "https://localhost:8080/",
     "height": 340
    },
    "executionInfo": {
     "elapsed": 9593,
     "status": "ok",
     "timestamp": 1710584691414,
     "user": {
      "displayName": "Niwan Wattanakitrungroj",
      "userId": "07262508947735166881"
     },
     "user_tz": -420
    },
    "id": "g1xfuRPIypec",
    "outputId": "f41c7652-e928-49bb-96e4-575b9b471204"
   },
   "outputs": [],
   "source": [
    "print(s.shape)\n",
    "s.head()"
   ]
  },
  {
   "cell_type": "markdown",
   "metadata": {
    "id": "lAnkMrByzD7r"
   },
   "source": [
    "### **เลือกข้อมูลการเช่าปี 2015**"
   ]
  },
  {
   "cell_type": "code",
   "execution_count": null,
   "metadata": {
    "executionInfo": {
     "elapsed": 360,
     "status": "ok",
     "timestamp": 1710584880626,
     "user": {
      "displayName": "Niwan Wattanakitrungroj",
      "userId": "07262508947735166881"
     },
     "user_tz": -420
    },
    "id": "_YE1syA5ypYy"
   },
   "outputs": [],
   "source": [
    "import datetime\n",
    "#https://docs.python.org/3/library/datetime.html#datetime-objects\n",
    "sample_time = datetime.datetime(2015, 1, 1, 0, 0, 0, tzinfo=datetime.timezone.utc)  #year, month, day, hour, minute, second, microsecond, tzinfo\n",
    "sample_time2 = datetime.datetime(2016, 1, 1, 0, 0, 0, tzinfo=datetime.timezone.utc)"
   ]
  },
  {
   "cell_type": "code",
   "execution_count": null,
   "metadata": {
    "executionInfo": {
     "elapsed": 369,
     "status": "ok",
     "timestamp": 1710584886310,
     "user": {
      "displayName": "Niwan Wattanakitrungroj",
      "userId": "07262508947735166881"
     },
     "user_tz": -420
    },
    "id": "-YSm4nW7ypQV"
   },
   "outputs": [],
   "source": [
    "h = h.loc[(h[\"start_date\"] >= sample_time) & (h[\"start_date\"] <= sample_time2)]\n"
   ]
  },
  {
   "cell_type": "code",
   "execution_count": null,
   "metadata": {
    "colab": {
     "base_uri": "https://localhost:8080/",
     "height": 340
    },
    "executionInfo": {
     "elapsed": 42669,
     "status": "ok",
     "timestamp": 1710584941182,
     "user": {
      "displayName": "Niwan Wattanakitrungroj",
      "userId": "07262508947735166881"
     },
     "user_tz": -420
    },
    "id": "2kZg1M0Qzcq8",
    "outputId": "33081edc-5adc-47a2-c57c-18bb6ca80533"
   },
   "outputs": [],
   "source": [
    "print(h.shape)\n",
    "h.head()"
   ]
  },
  {
   "cell_type": "markdown",
   "metadata": {
    "id": "X9NTiFnAzysK"
   },
   "source": [
    "### **สร้างข้อมูล Day of Week**"
   ]
  },
  {
   "cell_type": "code",
   "execution_count": null,
   "metadata": {
    "executionInfo": {
     "elapsed": 2,
     "status": "ok",
     "timestamp": 1710585255804,
     "user": {
      "displayName": "Niwan Wattanakitrungroj",
      "userId": "07262508947735166881"
     },
     "user_tz": -420
    },
    "id": "0VFoTDW5zb1J"
   },
   "outputs": [],
   "source": [
    "h = h.assign(\n",
    "    isweekday=h.start_date.dt.dayofweek.map(\n",
    "        {\n",
    "            0: \"weekday\",\n",
    "            1: \"weekday\",\n",
    "            2: \"weekday\",\n",
    "            3: \"weekday\",\n",
    "            4: \"weekday\",\n",
    "            5: \"weekend\",\n",
    "            6: \"weekend\",\n",
    "        }\n",
    "    )\n",
    ")"
   ]
  },
  {
   "cell_type": "code",
   "execution_count": null,
   "metadata": {
    "colab": {
     "base_uri": "https://localhost:8080/",
     "height": 340
    },
    "executionInfo": {
     "elapsed": 138161,
     "status": "ok",
     "timestamp": 1710585400376,
     "user": {
      "displayName": "Niwan Wattanakitrungroj",
      "userId": "07262508947735166881"
     },
     "user_tz": -420
    },
    "id": "brhQszcyzbt0",
    "outputId": "0d1b27e0-b433-40b0-fcfb-0aa6e2f38a55"
   },
   "outputs": [],
   "source": [
    "print(h.shape)\n",
    "h.head()"
   ]
  },
  {
   "cell_type": "code",
   "execution_count": null,
   "metadata": {
    "id": "yzzEKyBrzbgU"
   },
   "outputs": [],
   "source": []
  },
  {
   "cell_type": "markdown",
   "metadata": {
    "id": "Ra-ay5PG17r1"
   },
   "source": [
    "### **Join/Merge ตารางการเช่า (h) และตารางสถานี (s) ด้วย station ID**"
   ]
  },
  {
   "cell_type": "code",
   "execution_count": null,
   "metadata": {
    "executionInfo": {
     "elapsed": 409,
     "status": "ok",
     "timestamp": 1710585687092,
     "user": {
      "displayName": "Niwan Wattanakitrungroj",
      "userId": "07262508947735166881"
     },
     "user_tz": -420
    },
    "id": "l8OD0dm82aBi"
   },
   "outputs": [],
   "source": [
    "merged_df = h.merge(\n",
    "    right=s,\n",
    "    how=\"inner\",\n",
    "    left_on=\"station_id\",\n",
    "    right_on=\"id\",\n",
    ")"
   ]
  },
  {
   "cell_type": "code",
   "execution_count": null,
   "metadata": {
    "colab": {
     "base_uri": "https://localhost:8080/",
     "height": 340
    },
    "executionInfo": {
     "elapsed": 126930,
     "status": "ok",
     "timestamp": 1710585829021,
     "user": {
      "displayName": "Niwan Wattanakitrungroj",
      "userId": "07262508947735166881"
     },
     "user_tz": -420
    },
    "id": "xKBa4DT52Z-g",
    "outputId": "0dc34fee-998b-4234-c479-ec179dc44799"
   },
   "outputs": [],
   "source": [
    "print(merged_df.shape)\n",
    "merged_df.head()"
   ]
  },
  {
   "cell_type": "markdown",
   "metadata": {
    "id": "gw_eDVV452li"
   },
   "source": [
    "### **Feature Engineering เพื่อจัดกลุ่มสถานี**\n",
    "\n",
    "Group by \"station_name\", \"isweekday\"\n",
    "\n",
    "Features: mean of duration, count, max of distance_from_city_center\n"
   ]
  },
  {
   "cell_type": "code",
   "execution_count": null,
   "metadata": {
    "executionInfo": {
     "elapsed": 407,
     "status": "ok",
     "timestamp": 1710587461790,
     "user": {
      "displayName": "Niwan Wattanakitrungroj",
      "userId": "07262508947735166881"
     },
     "user_tz": -420
    },
    "id": "DYSkHYX42Z4J"
   },
   "outputs": [],
   "source": [
    "stationstats = merged_df.groupby([\"station_name\", \"isweekday\"]).agg(\n",
    "    {\"duration\": [\"mean\", \"count\"], \"distance_from_city_center\": \"max\"}\n",
    ")"
   ]
  },
  {
   "cell_type": "code",
   "execution_count": null,
   "metadata": {
    "executionInfo": {
     "elapsed": 404,
     "status": "ok",
     "timestamp": 1710587463737,
     "user": {
      "displayName": "Niwan Wattanakitrungroj",
      "userId": "07262508947735166881"
     },
     "user_tz": -420
    },
    "id": "y5gKFFZJ9R8M"
   },
   "outputs": [],
   "source": [
    "stationstats.columns = [\"duration\", \"num_trips\", \"distance_from_city_center\"]"
   ]
  },
  {
   "cell_type": "code",
   "execution_count": null,
   "metadata": {
    "colab": {
     "base_uri": "https://localhost:8080/",
     "height": 371
    },
    "executionInfo": {
     "elapsed": 68669,
     "status": "ok",
     "timestamp": 1710587533830,
     "user": {
      "displayName": "Niwan Wattanakitrungroj",
      "userId": "07262508947735166881"
     },
     "user_tz": -420
    },
    "id": "V0mAI4YE2Z1O",
    "outputId": "729ec84b-eca0-47a0-8168-50f346c83768"
   },
   "outputs": [],
   "source": [
    "print(stationstats.shape)\n",
    "stationstats.head()"
   ]
  },
  {
   "cell_type": "markdown",
   "metadata": {
    "id": "IsHqzYksmaZ5"
   },
   "source": [
    "### **Create model Kmeans bigframes.ml.cluster**\n",
    "\n",
    "> $k = 4$"
   ]
  },
  {
   "cell_type": "code",
   "execution_count": null,
   "metadata": {
    "colab": {
     "base_uri": "https://localhost:8080/",
     "height": 69
    },
    "executionInfo": {
     "elapsed": 50426,
     "status": "ok",
     "timestamp": 1710590382660,
     "user": {
      "displayName": "Niwan Wattanakitrungroj",
      "userId": "07262508947735166881"
     },
     "user_tz": -420
    },
    "id": "4L2M4LWn2ZyD",
    "outputId": "8e89c673-fb74-4fee-b1b0-1f4fba45013f"
   },
   "outputs": [],
   "source": [
    "from bigframes.ml.cluster import KMeans\n",
    "\n",
    "model_kmeans4 = KMeans(n_clusters=4)\n",
    "model_kmeans4.fit(stationstats)"
   ]
  },
  {
   "cell_type": "code",
   "execution_count": null,
   "metadata": {
    "colab": {
     "base_uri": "https://localhost:8080/",
     "height": 559
    },
    "executionInfo": {
     "elapsed": 11572,
     "status": "ok",
     "timestamp": 1710590418684,
     "user": {
      "displayName": "Niwan Wattanakitrungroj",
      "userId": "07262508947735166881"
     },
     "user_tz": -420
    },
    "id": "PYPVZN0T9neE",
    "outputId": "7491387a-ffd0-4637-b994-4a2a252e46de"
   },
   "outputs": [],
   "source": [
    "model_kmeans4.cluster_centers_"
   ]
  },
  {
   "cell_type": "markdown",
   "metadata": {
    "id": "Yd6RCtEXGN9l"
   },
   "source": [
    "### **ประเมินประสิทธิภาพ (Evaluation)**"
   ]
  },
  {
   "cell_type": "code",
   "execution_count": null,
   "metadata": {
    "colab": {
     "base_uri": "https://localhost:8080/",
     "height": 180
    },
    "executionInfo": {
     "elapsed": 11559,
     "status": "ok",
     "timestamp": 1710590441827,
     "user": {
      "displayName": "Niwan Wattanakitrungroj",
      "userId": "07262508947735166881"
     },
     "user_tz": -420
    },
    "id": "Zi5gAO95_3eW",
    "outputId": "51220310-904a-4aa7-e7b6-ae2179b2f422"
   },
   "outputs": [],
   "source": [
    "model_kmeans4.score(stationstats)"
   ]
  },
  {
   "cell_type": "markdown",
   "metadata": {
    "id": "EcnCi3CQ-6N9"
   },
   "source": [
    "### **Save model to Dataset in BigQuery**"
   ]
  },
  {
   "cell_type": "code",
   "execution_count": null,
   "metadata": {
    "colab": {
     "base_uri": "https://localhost:8080/",
     "height": 52
    },
    "executionInfo": {
     "elapsed": 2739,
     "status": "ok",
     "timestamp": 1710590493873,
     "user": {
      "displayName": "Niwan Wattanakitrungroj",
      "userId": "07262508947735166881"
     },
     "user_tz": -420
    },
    "id": "fmsZtQlT9nad",
    "outputId": "d6337eb5-1032-4a8e-e28e-dabe974a95a5"
   },
   "outputs": [],
   "source": [
    "model_kmeans4.to_gbq(\"ds-on-gcp-411105.DemoKmeans.modelKmeans4\",  replace=True)\n"
   ]
  },
  {
   "cell_type": "markdown",
   "metadata": {
    "id": "OiYYgj-7CVhe"
   },
   "source": [
    "### **Load Model**"
   ]
  },
  {
   "cell_type": "code",
   "execution_count": null,
   "metadata": {
    "executionInfo": {
     "elapsed": 388,
     "status": "ok",
     "timestamp": 1710590549392,
     "user": {
      "displayName": "Niwan Wattanakitrungroj",
      "userId": "07262508947735166881"
     },
     "user_tz": -420
    },
    "id": "5phUhSKt9nVv"
   },
   "outputs": [],
   "source": [
    "model_kmeans4_loaded = bpd.read_gbq_model(\"ds-on-gcp-411105.DemoKmeans.modelKmeans4\")"
   ]
  },
  {
   "cell_type": "code",
   "execution_count": null,
   "metadata": {
    "colab": {
     "base_uri": "https://localhost:8080/",
     "height": 52
    },
    "executionInfo": {
     "elapsed": 7648,
     "status": "ok",
     "timestamp": 1710590558906,
     "user": {
      "displayName": "Niwan Wattanakitrungroj",
      "userId": "07262508947735166881"
     },
     "user_tz": -420
    },
    "id": "SqoeBOc09nSH",
    "outputId": "708045de-4405-42c2-bf2b-0beccf9d1849"
   },
   "outputs": [],
   "source": [
    "resultK4 = model_kmeans4_loaded.predict(stationstats)"
   ]
  },
  {
   "cell_type": "code",
   "execution_count": null,
   "metadata": {
    "executionInfo": {
     "elapsed": 375,
     "status": "ok",
     "timestamp": 1710590561429,
     "user": {
      "displayName": "Niwan Wattanakitrungroj",
      "userId": "07262508947735166881"
     },
     "user_tz": -420
    },
    "id": "GSa8Awn4D6Un"
   },
   "outputs": [],
   "source": [
    "resultK4 = resultK4.reset_index()\n"
   ]
  },
  {
   "cell_type": "code",
   "execution_count": null,
   "metadata": {
    "colab": {
     "base_uri": "https://localhost:8080/",
     "height": 340
    },
    "executionInfo": {
     "elapsed": 10953,
     "status": "ok",
     "timestamp": 1710590585156,
     "user": {
      "displayName": "Niwan Wattanakitrungroj",
      "userId": "07262508947735166881"
     },
     "user_tz": -420
    },
    "id": "4RpX9wS8EG4C",
    "outputId": "928d266a-0484-4270-89b3-5d6072859ee0"
   },
   "outputs": [],
   "source": [
    "print(resultK4.shape)\n",
    "resultK4.head()"
   ]
  },
  {
   "cell_type": "code",
   "execution_count": null,
   "metadata": {
    "colab": {
     "base_uri": "https://localhost:8080/",
     "height": 53
    },
    "executionInfo": {
     "elapsed": 3536,
     "status": "ok",
     "timestamp": 1710590606394,
     "user": {
      "displayName": "Niwan Wattanakitrungroj",
      "userId": "07262508947735166881"
     },
     "user_tz": -420
    },
    "id": "C4Zd33dW2Zrn",
    "outputId": "f3fc0fba-8ac4-4cc8-dbde-0267dc1f2356"
   },
   "outputs": [],
   "source": [
    "resultK4.to_gbq(\"ds-on-gcp-411105.DemoKmeans.ResultStationKmeans4\")"
   ]
  },
  {
   "cell_type": "markdown",
   "metadata": {
    "id": "5075CQKhJXW2"
   },
   "source": [
    "### **งาน: จัดกลุ่มด้วย K-Means k = 2,3,...,10**\n",
    "\n",
    "> เพื่อหา $k$ ที่เหมาะสม"
   ]
  },
  {
   "cell_type": "code",
   "execution_count": null,
   "metadata": {
    "id": "ozKjVAk5KpG5"
   },
   "outputs": [],
   "source": []
  },
  {
   "cell_type": "code",
   "execution_count": null,
   "metadata": {
    "id": "tlhduV1vKpDW"
   },
   "outputs": [],
   "source": []
  },
  {
   "cell_type": "code",
   "execution_count": null,
   "metadata": {
    "id": "5YfLUkqhxyU7"
   },
   "outputs": [],
   "source": []
  },
  {
   "cell_type": "code",
   "execution_count": null,
   "metadata": {
    "id": "9KnPwPrdJuUM"
   },
   "outputs": [],
   "source": []
  }
 ],
 "metadata": {
  "colab": {
   "provenance": [],
   "toc_visible": true
  },
  "kernelspec": {
   "display_name": "Python 3 (ipykernel)",
   "language": "python",
   "name": "python3"
  },
  "language_info": {
   "codemirror_mode": {
    "name": "ipython",
    "version": 3
   },
   "file_extension": ".py",
   "mimetype": "text/x-python",
   "name": "python",
   "nbconvert_exporter": "python",
   "pygments_lexer": "ipython3",
   "version": "3.10.11"
  }
 },
 "nbformat": 4,
 "nbformat_minor": 4
}
